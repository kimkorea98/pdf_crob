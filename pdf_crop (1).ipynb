{
 "cells": [
  {
   "cell_type": "code",
   "execution_count": null,
   "id": "592795c6-44c6-42a9-986e-b2a75343355b",
   "metadata": {},
   "outputs": [],
   "source": []
  },
  {
   "cell_type": "code",
   "execution_count": 7,
   "id": "7032fbd4-d9ae-4570-873d-c344b1e1726f",
   "metadata": {},
   "outputs": [],
   "source": [
    "# 필요한 module import\n",
    "import os\n",
    "import time\n",
    "import glob\n",
    "\n",
    "from PyPDF2 import PdfFileReader, PdfFileWriter\n",
    "from pdfminer.layout import LAParams, LTTextLine, LTTextBox\n",
    "from pdfminer.pdfpage import PDFPage\n",
    "from pdfminer.pdfinterp import PDFResourceManager\n",
    "from pdfminer.pdfinterp import PDFPageInterpreter\n",
    "from pdfminer.converter import PDFPageAggregator\n",
    "\n",
    "from pdf2image import convert_from_path, convert_from_bytes\n",
    "from IPython.display import display\n",
    "from PIL import Image, ImageDraw\n",
    "\n",
    "#conver index(int) to str of specific size ex. 4 -> '0004' \n",
    "def index_convert_filename_regular_size(index, size):\n",
    "    idx_len = len(str(index))\n",
    "    filename = ''\n",
    "    for _ in range(size-idx_len):\n",
    "        filename += '0'\n",
    "    filename += str(index)\n",
    "    return filename    \n",
    "\n",
    "# intial setting to progress PDF-_crop_function\n",
    "def initialize(file_path):\n",
    "    try:\n",
    "        os.mkdir(file_path+'/pdf')\n",
    "    except:\n",
    "        print(\"already exist folder\", file_path+'/pdf')\n",
    "    try:\n",
    "        os.mkdir(file_path+'/output')\n",
    "    except:\n",
    "        print(\"already exist folder\", file_path+'/output')\n",
    "\n",
    "    print('plz put in pdf files at '+ file_path +'/pdf')\n",
    "\n",
    "    \n",
    "    \n",
    "#description-----------------------------------------------------    \n",
    "#pdf_file : name of pdf file in pdf folder ex.'asd.pdf' \n",
    "#file_path : current dir path ex. os.getcwd()\n",
    "#output_format : yolo(x_center, y_center, width, height, value), ocr(filename, value) \n",
    "#time_check(default False) : if you want to check time use this \n",
    "#save_crop_img(default True) : decide to save crop image \n",
    "#single_page : need update\n",
    "def PDF_crop_function(pdf_file ,file_path, output_format,page_range = None, time_check = 0, save_crop_img = 1, save_label = 1, a = 0, print_option = False, draw_option = False):    \n",
    "    if time_check ==1:\n",
    "        start = time.time()\n",
    "    #path setting\n",
    "    pdf_path = file_path + '/pdf/' + pdf_file\n",
    "    save_path = file_path +'/output/' + pdf_file\n",
    "\n",
    "    #make dir to save\n",
    "    try:\n",
    "        os.mkdir(save_path)\n",
    "    except:\n",
    "        print(\"already exist folder\", save_path)\n",
    "    #convert pdf to PIL image list\n",
    "    \n",
    "    print(\"converting pdf to image...\")\n",
    "    img = convert_from_path(pdf_path)\n",
    "    page_num = len(img)\n",
    "    \n",
    "    print(\"getting pdf data ...\")\n",
    "    fp = open(pdf_path, 'rb')\n",
    "    # pdf coordinate extraction 하기 위해서 필요한 변수 setting\n",
    "    rsrcmgr = PDFResourceManager()\n",
    "    laparams = LAParams(detect_vertical = True)\n",
    "    device = PDFPageAggregator(rsrcmgr, laparams=laparams)\n",
    "    interpreter = PDFPageInterpreter(rsrcmgr, device)\n",
    "    pages = PDFPage.get_pages(fp)\n",
    "\n",
    "    i = 0 # cnt for progress page\n",
    "    check = 0 # ckeck for progress\n",
    "    if page_range == None:\n",
    "        page_range = range(page_num) \n",
    "    else:\n",
    "        page_range = range(page_range[0], page_range[1]) \n",
    "     \n",
    "    for page in pages:\n",
    "        #pregress print\n",
    "        if i/page_num > 0.25 and check == 0:\n",
    "            print('25% complete,', page_num-i, 'page is remain...')\n",
    "            check = 1\n",
    "        elif i/page_num > 0.5 and check == 1:\n",
    "            print('50% complete,', page_num-i, 'page is remain...')\n",
    "            check = 2\n",
    "        elif i/page_num > 0.75 and check == 2:\n",
    "            print('75% complete,', page_num-i, 'page is remain...')\n",
    "            check = 3\n",
    "     \n",
    "        \n",
    "        #get data og the pdf page of i\n",
    "        if  i in page_range: #only print single page\n",
    "            x_max = page.mediabox[2]\n",
    "            y_max =  page.mediabox[3]\n",
    "            img_size = img[i].size\n",
    "            page_path = save_path + '/' +index_convert_filename_regular_size(i, 4)\n",
    "            try:\n",
    "                os.mkdir(page_path)\n",
    "            except: \n",
    "                #print(\"already exist folder\", page_path)\n",
    "                pass\n",
    "            \n",
    "            interpreter.process_page(page)\n",
    "            layout = device.get_result()\n",
    "            with open(page_path +'/labels.txt', \"w\") as f:\n",
    "                j = 0\n",
    "                for obj in layout:\n",
    "                    if isinstance(obj,LTTextBox):\n",
    "                        for lobj in obj:\n",
    "                            if isinstance(lobj,LTTextLine):\n",
    "                                x1, x2, y1, y2, value = lobj.bbox[0], lobj.bbox[2], lobj.bbox[1], lobj.bbox[3], lobj.get_text()\n",
    "                                #PIL coordinate transform\n",
    "                                #print('x1:', x1,'x2:', x2, 'y1:', y1,'y2:', y2, value)\n",
    "                                x1 = x1/(x_max)*img_size[0]\n",
    "                                x2 = x2/(x_max)*img_size[0]\n",
    "                                y1 = (1 - (y1/(y_max - a)))*img_size[1]\n",
    "                                y2 = (1 - (y2/(y_max - a)))*img_size[1]\n",
    "                                if draw_option == True:\n",
    "                                    draw = ImageDraw.Draw(img[i])\n",
    "                                    draw.rectangle([x1, y1,x2, y2], outline='yellow', width = 1)\n",
    "                               \n",
    "                                #write labeling data at txt. ex. bbox cordinate, value \n",
    "                                if save_label == True:\n",
    "                                    if output_format == 'yolo':\n",
    "                                        x_center = (x1 + x2)/2\n",
    "                                        y_center = (y2 + y1)/2\n",
    "                                        width = x2-x1\n",
    "                                        height = y1-y2\n",
    "                                        f.write(\"0 %f %f %f %f %s\" % (x_center, y_center, width, height, value))  \n",
    "                                    elif output_format == 'ocr':\n",
    "                                        f.write(\"%s\\t%s\" % (index_convert_filename_regular_size(j, 4)+'.jpg', value))  \n",
    "                                \n",
    "                                #save the crop image\n",
    "                                if save_crop_img == True:\n",
    "                                    crop_img = img[i].crop((x1, y2, x2, y1))\n",
    "                                    if 2*abs(x1-x2) < abs(y1-y2):\n",
    "                                        crop_img = crop_img.rotate(90, expand=True)\n",
    "                                    crop_img.save(page_path+ '/'+index_convert_filename_regular_size(j, 4)+'.jpg')\n",
    "                                    if print_option ==True: display(crop_img)\n",
    "                                    if print_option ==True: print(value)\n",
    "                                j += 1\n",
    "            if print_option ==True: display(img[i])\n",
    "        i += 1\n",
    "    if time_check ==1:\n",
    "        print(time.time()-start)\n",
    "    print('100% complete')\n",
    "       "
   ]
  },
  {
   "cell_type": "code",
   "execution_count": 6,
   "id": "0a93f0a0-1d2e-4788-ba66-126ef0559082",
   "metadata": {},
   "outputs": [
    {
     "name": "stdout",
     "output_type": "stream",
     "text": [
      "plz put in pdf files at /mnt/pdf_crop/pdf\n"
     ]
    }
   ],
   "source": [
    "file_path = os.getcwd()\n",
    "initialize(file_path)"
   ]
  },
  {
   "cell_type": "code",
   "execution_count": null,
   "id": "75acb9c1-bebf-481f-9473-83b855e9cf81",
   "metadata": {},
   "outputs": [],
   "source": [
    "pdf_file = 'sample1.pdf'\n",
    "file_path = os.getcwd()\n",
    "output_format = 'ocr'\n",
    "time_check = 1\n",
    "page_range = None\n",
    "PDF_crop_function(\n",
    "    pdf_file,file_path, \n",
    "    output_format, \n",
    "    page_range,\n",
    "    print_option = False,\n",
    "    save_crop_img= True, \n",
    "    draw_option=False, \n",
    "    save_label= True, \n",
    "    a=0\n",
    ")"
   ]
  },
  {
   "cell_type": "code",
   "execution_count": null,
   "id": "8291f493-734f-47b5-9d7d-e09de196c5fe",
   "metadata": {},
   "outputs": [],
   "source": [
    "pdf_file = 'sample3.pdf'\n",
    "dic_list = os.listdir(file_path+'/output/'+pdf_file)\n",
    "dic_list.sort()\n",
    "for i in range(40):\n",
    "    file_list = glob.glob(file_path+'/output/'+pdf_file+'/'+dic_list[i]+'/*.jpg')\n",
    "    file_list.sort()\n",
    "    with open(file_path+'/output/'+pdf_file+'/'+dic_list[i]+'/Labels.txt') as f:\n",
    "        lines = f.readlines()\n",
    "    for j in range(len(file_list)):\n",
    "        display(Image.open(file_list[j]))\n",
    "        print(lines[j])"
   ]
  },
  {
   "cell_type": "code",
   "execution_count": 4,
   "id": "7d0ad376-b11d-4e80-9812-0eb7e98d73e6",
   "metadata": {},
   "outputs": [
    {
     "data": {
      "text/plain": [
       "['._1225-9071_2003_v20n2_85.pdf',\n",
       " '1226-3133_2000_동심유전체봉이삽입된원통형공진기의정확한전자계표현.pdf',\n",
       " '1226-3133_2014_거친도체표면후방산란계산을위한모서리효과저감기법.pdf',\n",
       " '._1226-3133_2016_v27n12_1084.pdf',\n",
       " '._1226-3133_2004_PBG구조를이용한DualBand전력증폭기연구.pdf']"
      ]
     },
     "execution_count": 4,
     "metadata": {},
     "output_type": "execute_result"
    }
   ],
   "source": [
    "pdf_list = os.listdir(\"./pdf\")\n",
    "output_list = os.listdir(\"./output\")\n",
    "pdf_list = list(set(pdf_list) - set(output_list)) \n",
    "pdf_list[:5]"
   ]
  },
  {
   "cell_type": "code",
   "execution_count": null,
   "id": "fc38ebfb-b252-42ee-be21-1eeb07912b58",
   "metadata": {},
   "outputs": [],
   "source": [
    "\n",
    "check = 0\n",
    "for i in range(len(pdf_list)):\n",
    "    print(pdf_list[i],'progress...')\n",
    "    if i/len(pdf_list) > 0.25 and check == 0:\n",
    "        print('25% complete,', len(pdf_list)-i, 'pdf is remain-----------------------------------')\n",
    "        check = 1\n",
    "    elif i/len(pdf_list) > 0.5 and check == 1:\n",
    "        print('50% complete,', len(pdf_list)-i, 'pdf is remain-----------------------------------')\n",
    "        check = 2\n",
    "    elif i/len(pdf_list)> 0.75 and check == 2:\n",
    "        print('75% complete,', len(pdf_list)-i, 'pdf is remain-----------------------------------')\n",
    "        check = 3\n",
    "\n",
    "\n",
    "    PDF_crop_function(\n",
    "        pdf_file = pdf_list[i],\n",
    "        file_path = os.getcwd(), \n",
    "        output_format ='ocr', \n",
    "        page_range = None,\n",
    "        print_option = False,\n",
    "        save_crop_img= True, \n",
    "        draw_option=False, \n",
    "        save_label= True, \n",
    "        a=0\n",
    "    )"
   ]
  },
  {
   "cell_type": "code",
   "execution_count": 11,
   "id": "f6fb8951-eeb4-433b-bd7e-55d8b68f0d16",
   "metadata": {},
   "outputs": [
    {
     "name": "stdout",
     "output_type": "stream",
     "text": [
      "['._1225-6692_2004_v25n2_109.pdf', '1598-706X_@nondate_주형에서석탄분첨가제시콜에의한주철주물의소착억제기구에관하여.pdf', '0367-6315_@nondate_PersistenceofSalmonellaentericaEscherichiacoliO157H7andListeriamonocytogenesinSoilLiquidManureAmendedSoilandLiquidManure.pdf', '._0367-6315_@nondate_시설가지연작재배토양이화학성이생리장해과발생에미치는영향.pdf', '._2288-6559_@nondate_알칼리금속이흡착된Si111TEX7times7TEX계의초기산화과정연구.pdf']\n",
      "total 17578 completed : 17576\n"
     ]
    }
   ],
   "source": [
    "pdf_list = os.listdir(\"./pdf\")\n",
    "output_list = os.listdir(\"./output\")\n",
    "pdf_list = list(set(pdf_list) - set(output_list)) \n",
    "print(pdf_list[:5])\n",
    "print('total', len(pdf_list), 'completed :', len(output_list))"
   ]
  },
  {
   "cell_type": "code",
   "execution_count": 10,
   "id": "025dc6dc-db4a-4ade-8146-07aa7947196d",
   "metadata": {
    "scrolled": true,
    "tags": []
   },
   "outputs": [
    {
     "name": "stdout",
     "output_type": "stream",
     "text": [
      "already exist folder /mnt/pdf_crop/output/\n",
      "already exist folder /mnt/pdf_crop/output/\n"
     ]
    }
   ],
   "source": [
    "from function import PDF_crop_function\n",
    "import multiprocessing as mp\n",
    "from itertools import repeat\n",
    "\n",
    "pool = mp.Pool(processes=32)\n",
    "pool.map(PDF_crop_function,pdf_list)\n",
    "pool.close()\n",
    "pool.join()\n"
   ]
  },
  {
   "cell_type": "code",
   "execution_count": 31,
   "id": "2c3c3b8f-2c1f-4088-9741-425f0da4f8e7",
   "metadata": {},
   "outputs": [],
   "source": [
    "pdf_dir_list = glob.glob('./outputs/*/*.pdf')\n"
   ]
  },
  {
   "cell_type": "code",
   "execution_count": 32,
   "id": "8deac331-2bee-4674-a528-8dfb62686168",
   "metadata": {},
   "outputs": [
    {
     "data": {
      "text/plain": [
       "11451"
      ]
     },
     "execution_count": 32,
     "metadata": {},
     "output_type": "execute_result"
    }
   ],
   "source": [
    "len(pdf_dir_list)"
   ]
  },
  {
   "cell_type": "code",
   "execution_count": 35,
   "id": "d80a416f-3ace-408f-82ba-11db3a272f01",
   "metadata": {},
   "outputs": [],
   "source": [
    "import shutil"
   ]
  },
  {
   "cell_type": "code",
   "execution_count": 38,
   "id": "1ce50962-6968-40b3-86ab-255c7e8a2687",
   "metadata": {},
   "outputs": [],
   "source": [
    "for pdf_fn in pdf_dir_list:\n",
    "    dst_fn = pdf_fn[:pdf_fn.rfind('.')]\n",
    "    shutil.move(pdf_fn, dst_fn)"
   ]
  },
  {
   "cell_type": "code",
   "execution_count": null,
   "id": "e5693101-966f-4dd4-beec-8f96a6f1d0cc",
   "metadata": {},
   "outputs": [],
   "source": []
  }
 ],
 "metadata": {
  "kernelspec": {
   "display_name": "pdf_crop",
   "language": "python",
   "name": "pdf_crop"
  },
  "language_info": {
   "codemirror_mode": {
    "name": "ipython",
    "version": 3
   },
   "file_extension": ".py",
   "mimetype": "text/x-python",
   "name": "python",
   "nbconvert_exporter": "python",
   "pygments_lexer": "ipython3",
   "version": "3.8.16"
  }
 },
 "nbformat": 4,
 "nbformat_minor": 5
}
